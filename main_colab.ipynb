{
  "nbformat": 4,
  "nbformat_minor": 0,
  "metadata": {
    "kernelspec": {
      "display_name": "Python 3",
      "language": "python",
      "name": "python3"
    },
    "language_info": {
      "codemirror_mode": {
        "name": "ipython",
        "version": 3
      },
      "file_extension": ".py",
      "mimetype": "text/x-python",
      "name": "python",
      "nbconvert_exporter": "python",
      "pygments_lexer": "ipython3",
      "version": "3.8.2-final"
    },
    "colab": {
      "name": "main_colab.ipynb",
      "provenance": [],
      "collapsed_sections": []
    }
  },
  "cells": [
    {
      "source": [
        "# Pildikalkulaator (<i>Picture Calculator</i>)\n",
        "\n",
        "Autorid: Sille Habakukk, Ilmar Uduste\n",
        "\n",
        "Projekti eesmärk oli luua programm, mis suudaks pildi pealt tuvastada matemaatilisi tehteid, neid Pythonisse sisse lugeda, arvutus lõpuni teha ning lõppvastus anda. Funktsionaalsus oleks seega sarnane Photomath äpile.\n",
        "\n",
        "Põhiline fookus läks programmi arendamisel GUIga versiooni peale, aga LTAT.01.003 Tehisintellekt raames tekitasime ka Google Colabiks sobiliku .ipynb faili. Kahjuks ei jõudnud antud õppeaine raames programmi esialgse planeeritud võimekuseni viia, kuid loodetavasti piisab sellest miniprojekti jaoks. :)\n",
        "\n",
        "Allpool on toodud pilt GUIst, mis on kättesaadaval meie projekti Githubis: https://github.com/ilmaruduste/picture_calculator/blob/dev/math_symbol_classification_ml.ipynb\n",
        "\n",
        "![Pilt GUIst](gui_pic.png)"
      ],
      "cell_type": "markdown",
      "metadata": {}
    },
    {
      "source": [
        "# Ettevalmistus\n",
        "## Moodulite import"
      ],
      "cell_type": "markdown",
      "metadata": {}
    },
    {
      "cell_type": "code",
      "metadata": {
        "id": "ncMAFQkWLZLn"
      },
      "source": [
        "import os.path\n",
        "import cv2\n",
        "import numpy as np\n",
        "import keras\n",
        "import pandas as pd\n",
        "import matplotlib.pyplot as plt\n",
        "import sys\n",
        "import math"
      ],
      "execution_count": 3,
      "outputs": []
    },
    {
      "source": [
        "## Kasutatud funktsioonid"
      ],
      "cell_type": "markdown",
      "metadata": {}
    },
    {
      "cell_type": "code",
      "metadata": {
        "id": "9H5eqGmqLZLv"
      },
      "source": [
        "######## DEFINE FUNCTIONS ########\n",
        "#sorteerib kastid nende x koordinaadi väärtuse põhjal\n",
        "#st. et eeldame et tehe on kirjutatud ühes reas\n",
        "def order_boxes(boxes):\n",
        "    boxes.sort(key=lambda x:x[0])\n",
        "\n",
        "# def get_areas(boxes):\n",
        "#     areas = []\n",
        "#     for box in boxes:\n",
        "#         areas.append(box[2]*box[3])\n",
        "#     return areas\n",
        "\n",
        "#eemaldab bounding boxid mis on teiste bounding boxide sees\n",
        "def remove_inside_boxes(boxes):\n",
        "    remove_boxes = []\n",
        "    for box_has_parent in boxes:\n",
        "        xc,yc,wc,hc = box_has_parent\n",
        "        for box_parent in boxes:\n",
        "            xp,yp,wp,hp = box_parent\n",
        "            if xc>=xp and yc>=yp and xp+wp>=xc+wc and yp+hp>=yc+hc and box_has_parent != box_parent:\n",
        "                remove_boxes.append(box_has_parent)\n",
        "    for box in remove_boxes:\n",
        "        boxes.remove(box)\n",
        "    return boxes\n",
        "\n",
        "#lõikab bounding boxide põhjal välja pildist huvipakkuvad pildid\n",
        "def get_crops(image, boxes, draw=False):\n",
        "    crops = []\n",
        "    for box in boxes:\n",
        "        x,y,w,h = box\n",
        "        crops.append(image[y:y+h,x:x+w])\n",
        "    if draw:\n",
        "        for i, crop in enumerate(crops):\n",
        "            plt.subplot(1,len(crops),i+1)\n",
        "            #plt.axis('off')\n",
        "            plt.imshow(crop, cmap=\"gray\")\n",
        "    return crops\n",
        "\n",
        "#muudab pildid listis ruudukujuliseks, lisades puhvrit ümber\n",
        "def make_square(image_list, square_size=None):\n",
        "    ruudud = []\n",
        "    for image in image_list:\n",
        "        h, w = image.shape\n",
        "        og_square_edge = max(h,w)\n",
        "        if h > w:\n",
        "            pool = (h-w)//2\n",
        "            #vasakule liidetav pilt, laiusega pool, kõrgusega h, värv 255\n",
        "            vasakule = np.full((h,pool), 255)\n",
        "            #paremale liidetav pilt, laiusega h-w-pool, kõrgusega h, värv 255\n",
        "            paremale = np.full((h,h-w-pool), 255)\n",
        "            ruudud.append(np.concatenate((vasakule,image,paremale), axis=1))\n",
        "        else:\n",
        "            pool = (w-h)//2\n",
        "            #ules liidetav pilt, laiusega w, kõrgusega pool, värv 255\n",
        "            ules = np.full((pool, w), 255)\n",
        "            #alla liidetav pilt, laiusega w, kõrgusega w-h-pool, värv 255\n",
        "            alla = np.full((w-h-pool, w), 255)\n",
        "            ruudud.append(np.concatenate((ules,image,alla), axis=0))\n",
        "      \n",
        "    #vajadusel muudab ruutude suurust\n",
        "    if square_size != None:\n",
        "        lopp_ruudud = []\n",
        "        for image in ruudud:\n",
        "            lopp_ruudud.append(cv2.resize(np.array(image, dtype='uint8'), (square_size, square_size), interpolation=cv2.INTER_AREA))\n",
        "        ruudud = lopp_ruudud\n",
        "    return ruudud\n",
        "\n",
        "#väljalõigatud piltide visualiseerimiseks\n",
        "def draw_crops(crops, draw_axis='on'):\n",
        "    for i, crop in enumerate(crops):\n",
        "            plt.subplot(1,len(crops),i+1)\n",
        "            plt.axis(draw_axis)\n",
        "            plt.imshow(crop, cmap=\"gray\")\n",
        "            # plt.imshow(crop)"
      ],
      "execution_count": 4,
      "outputs": []
    },
    {
      "source": [
        "## Mudeli sisselaadimine\n",
        "\n",
        "Laeme sisse tehisnärvivõrgu, mille arendus on notebookis math_symbol_classification_ml.ipynb. NN treeningandmestikuks kasutasime [Kaggle'ist leitud andmestikku](https://www.kaggle.com/xainano/handwrittenmathsymbols) ning edasine töö on seal samas notebookis kirjas."
      ],
      "cell_type": "markdown",
      "metadata": {}
    },
    {
      "cell_type": "code",
      "metadata": {
        "id": "eDBVOJVuLZLw"
      },
      "source": [
        "######## LOAD MODEL AND LABELS ########\n",
        "loaded_model = keras.models.load_model('./math_symbol_classifier_model_v6')\n",
        "labels_df = pd.read_csv('labels_df_6.csv', sep=';')\n",
        "\n",
        "labels_df.drop(labels_df.columns[0], axis=1, inplace=True)\n",
        "true_labels = np.array(labels_df['true_label'])"
      ],
      "execution_count": 16,
      "outputs": []
    },
    {
      "cell_type": "markdown",
      "metadata": {
        "id": "gGrw_VDAP1q9"
      },
      "source": [
        "# Pilditöötlus\n",
        "\n",
        "Pildikalkulaatori esimene samm on pilditöötlus.\n",
        "\n",
        "## Pildi sisselugemine\n",
        "\n",
        "Testimiseks kasutatud pildid leiab siit:\n",
        "https://drive.google.com/drive/folders/1DgyAjqd-hFdPVKjGqwXlpsRn4YtYqpwl "
      ]
    },
    {
      "cell_type": "code",
      "metadata": {
        "id": "dmLCv2AQLZLw"
      },
      "source": [
        "filename = 'test_images/bigger_all_numbers.png'"
      ],
      "execution_count": 9,
      "outputs": []
    },
    {
      "cell_type": "code",
      "metadata": {
        "colab": {
          "base_uri": "https://localhost:8080/",
          "height": 113
        },
        "id": "Ue57bXaRLZLw",
        "outputId": "5a660d61-6fd2-4a85-8862-899c693a1178"
      },
      "source": [
        "img = cv2.imread(filename)\n",
        "plt.imshow(img)"
      ],
      "execution_count": 10,
      "outputs": [
        {
          "output_type": "execute_result",
          "data": {
            "text/plain": [
              "<matplotlib.image.AxesImage at 0x7fe4a06c61f0>"
            ]
          },
          "metadata": {},
          "execution_count": 10
        },
        {
          "output_type": "display_data",
          "data": {
            "text/plain": "<Figure size 432x288 with 1 Axes>",
            "image/svg+xml": "<?xml version=\"1.0\" encoding=\"utf-8\" standalone=\"no\"?>\n<!DOCTYPE svg PUBLIC \"-//W3C//DTD SVG 1.1//EN\"\n  \"http://www.w3.org/Graphics/SVG/1.1/DTD/svg11.dtd\">\n<!-- Created with matplotlib (https://matplotlib.org/) -->\n<svg height=\"78.861511pt\" version=\"1.1\" viewBox=\"0 0 378.500212 78.861511\" width=\"378.500212pt\" xmlns=\"http://www.w3.org/2000/svg\" xmlns:xlink=\"http://www.w3.org/1999/xlink\">\n <metadata>\n  <rdf:RDF xmlns:cc=\"http://creativecommons.org/ns#\" xmlns:dc=\"http://purl.org/dc/elements/1.1/\" xmlns:rdf=\"http://www.w3.org/1999/02/22-rdf-syntax-ns#\">\n   <cc:Work>\n    <dc:type rdf:resource=\"http://purl.org/dc/dcmitype/StillImage\"/>\n    <dc:date>2021-01-03T20:10:14.613626</dc:date>\n    <dc:format>image/svg+xml</dc:format>\n    <dc:creator>\n     <cc:Agent>\n      <dc:title>Matplotlib v3.3.3, https://matplotlib.org/</dc:title>\n     </cc:Agent>\n    </dc:creator>\n   </cc:Work>\n  </rdf:RDF>\n </metadata>\n <defs>\n  <style type=\"text/css\">*{stroke-linecap:butt;stroke-linejoin:round;}</style>\n </defs>\n <g id=\"figure_1\">\n  <g id=\"patch_1\">\n   <path d=\"M 0 78.861511 \nL 378.500212 78.861511 \nL 378.500212 0 \nL 0 0 \nz\n\" style=\"fill:none;\"/>\n  </g>\n  <g id=\"axes_1\">\n   <g id=\"patch_2\">\n    <path d=\"M 33.2875 54.983386 \nL 368.0875 54.983386 \nL 368.0875 10.917917 \nL 33.2875 10.917917 \nz\n\" style=\"fill:#ffffff;\"/>\n   </g>\n   <g clip-path=\"url(#pfbad788eda)\">\n    <image height=\"45\" id=\"image46c559a72a\" transform=\"scale(1 -1)translate(0 -45)\" width=\"335\" x=\"33.2875\" xlink:href=\"data:image/png;base64,\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\" y=\"-9.983386\"/>\n   </g>\n   <g id=\"matplotlib.axis_1\">\n    <g id=\"xtick_1\">\n     <g id=\"line2d_1\">\n      <defs>\n       <path d=\"M 0 0 \nL 0 3.5 \n\" id=\"mf64f964b7e\" style=\"stroke:#000000;stroke-width:0.8;\"/>\n      </defs>\n      <g>\n       <use style=\"stroke:#000000;stroke-width:0.8;\" x=\"33.368802\" xlink:href=\"#mf64f964b7e\" y=\"54.983386\"/>\n      </g>\n     </g>\n     <g id=\"text_1\">\n      <!-- 0 -->\n      <g transform=\"translate(30.187552 69.581823)scale(0.1 -0.1)\">\n       <defs>\n        <path d=\"M 31.78125 66.40625 \nQ 24.171875 66.40625 20.328125 58.90625 \nQ 16.5 51.421875 16.5 36.375 \nQ 16.5 21.390625 20.328125 13.890625 \nQ 24.171875 6.390625 31.78125 6.390625 \nQ 39.453125 6.390625 43.28125 13.890625 \nQ 47.125 21.390625 47.125 36.375 \nQ 47.125 51.421875 43.28125 58.90625 \nQ 39.453125 66.40625 31.78125 66.40625 \nz\nM 31.78125 74.21875 \nQ 44.046875 74.21875 50.515625 64.515625 \nQ 56.984375 54.828125 56.984375 36.375 \nQ 56.984375 17.96875 50.515625 8.265625 \nQ 44.046875 -1.421875 31.78125 -1.421875 \nQ 19.53125 -1.421875 13.0625 8.265625 \nQ 6.59375 17.96875 6.59375 36.375 \nQ 6.59375 54.828125 13.0625 64.515625 \nQ 19.53125 74.21875 31.78125 74.21875 \nz\n\" id=\"DejaVuSans-48\"/>\n       </defs>\n       <use xlink:href=\"#DejaVuSans-48\"/>\n      </g>\n     </g>\n    </g>\n    <g id=\"xtick_2\">\n     <g id=\"line2d_2\">\n      <g>\n       <use style=\"stroke:#000000;stroke-width:0.8;\" x=\"74.019603\" xlink:href=\"#mf64f964b7e\" y=\"54.983386\"/>\n      </g>\n     </g>\n     <g id=\"text_2\">\n      <!-- 250 -->\n      <g transform=\"translate(64.475853 69.581823)scale(0.1 -0.1)\">\n       <defs>\n        <path d=\"M 19.1875 8.296875 \nL 53.609375 8.296875 \nL 53.609375 0 \nL 7.328125 0 \nL 7.328125 8.296875 \nQ 12.9375 14.109375 22.625 23.890625 \nQ 32.328125 33.6875 34.8125 36.53125 \nQ 39.546875 41.84375 41.421875 45.53125 \nQ 43.3125 49.21875 43.3125 52.78125 \nQ 43.3125 58.59375 39.234375 62.25 \nQ 35.15625 65.921875 28.609375 65.921875 \nQ 23.96875 65.921875 18.8125 64.3125 \nQ 13.671875 62.703125 7.8125 59.421875 \nL 7.8125 69.390625 \nQ 13.765625 71.78125 18.9375 73 \nQ 24.125 74.21875 28.421875 74.21875 \nQ 39.75 74.21875 46.484375 68.546875 \nQ 53.21875 62.890625 53.21875 53.421875 \nQ 53.21875 48.921875 51.53125 44.890625 \nQ 49.859375 40.875 45.40625 35.40625 \nQ 44.1875 33.984375 37.640625 27.21875 \nQ 31.109375 20.453125 19.1875 8.296875 \nz\n\" id=\"DejaVuSans-50\"/>\n        <path d=\"M 10.796875 72.90625 \nL 49.515625 72.90625 \nL 49.515625 64.59375 \nL 19.828125 64.59375 \nL 19.828125 46.734375 \nQ 21.96875 47.46875 24.109375 47.828125 \nQ 26.265625 48.1875 28.421875 48.1875 \nQ 40.625 48.1875 47.75 41.5 \nQ 54.890625 34.8125 54.890625 23.390625 \nQ 54.890625 11.625 47.5625 5.09375 \nQ 40.234375 -1.421875 26.90625 -1.421875 \nQ 22.3125 -1.421875 17.546875 -0.640625 \nQ 12.796875 0.140625 7.71875 1.703125 \nL 7.71875 11.625 \nQ 12.109375 9.234375 16.796875 8.0625 \nQ 21.484375 6.890625 26.703125 6.890625 \nQ 35.15625 6.890625 40.078125 11.328125 \nQ 45.015625 15.765625 45.015625 23.390625 \nQ 45.015625 31 40.078125 35.4375 \nQ 35.15625 39.890625 26.703125 39.890625 \nQ 22.75 39.890625 18.8125 39.015625 \nQ 14.890625 38.140625 10.796875 36.28125 \nz\n\" id=\"DejaVuSans-53\"/>\n       </defs>\n       <use xlink:href=\"#DejaVuSans-50\"/>\n       <use x=\"63.623047\" xlink:href=\"#DejaVuSans-53\"/>\n       <use x=\"127.246094\" xlink:href=\"#DejaVuSans-48\"/>\n      </g>\n     </g>\n    </g>\n    <g id=\"xtick_3\">\n     <g id=\"line2d_3\">\n      <g>\n       <use style=\"stroke:#000000;stroke-width:0.8;\" x=\"114.670404\" xlink:href=\"#mf64f964b7e\" y=\"54.983386\"/>\n      </g>\n     </g>\n     <g id=\"text_3\">\n      <!-- 500 -->\n      <g transform=\"translate(105.126654 69.581823)scale(0.1 -0.1)\">\n       <use xlink:href=\"#DejaVuSans-53\"/>\n       <use x=\"63.623047\" xlink:href=\"#DejaVuSans-48\"/>\n       <use x=\"127.246094\" xlink:href=\"#DejaVuSans-48\"/>\n      </g>\n     </g>\n    </g>\n    <g id=\"xtick_4\">\n     <g id=\"line2d_4\">\n      <g>\n       <use style=\"stroke:#000000;stroke-width:0.8;\" x=\"155.321206\" xlink:href=\"#mf64f964b7e\" y=\"54.983386\"/>\n      </g>\n     </g>\n     <g id=\"text_4\">\n      <!-- 750 -->\n      <g transform=\"translate(145.777456 69.581823)scale(0.1 -0.1)\">\n       <defs>\n        <path d=\"M 8.203125 72.90625 \nL 55.078125 72.90625 \nL 55.078125 68.703125 \nL 28.609375 0 \nL 18.3125 0 \nL 43.21875 64.59375 \nL 8.203125 64.59375 \nz\n\" id=\"DejaVuSans-55\"/>\n       </defs>\n       <use xlink:href=\"#DejaVuSans-55\"/>\n       <use x=\"63.623047\" xlink:href=\"#DejaVuSans-53\"/>\n       <use x=\"127.246094\" xlink:href=\"#DejaVuSans-48\"/>\n      </g>\n     </g>\n    </g>\n    <g id=\"xtick_5\">\n     <g id=\"line2d_5\">\n      <g>\n       <use style=\"stroke:#000000;stroke-width:0.8;\" x=\"195.972007\" xlink:href=\"#mf64f964b7e\" y=\"54.983386\"/>\n      </g>\n     </g>\n     <g id=\"text_5\">\n      <!-- 1000 -->\n      <g transform=\"translate(183.247007 69.581823)scale(0.1 -0.1)\">\n       <defs>\n        <path d=\"M 12.40625 8.296875 \nL 28.515625 8.296875 \nL 28.515625 63.921875 \nL 10.984375 60.40625 \nL 10.984375 69.390625 \nL 28.421875 72.90625 \nL 38.28125 72.90625 \nL 38.28125 8.296875 \nL 54.390625 8.296875 \nL 54.390625 0 \nL 12.40625 0 \nz\n\" id=\"DejaVuSans-49\"/>\n       </defs>\n       <use xlink:href=\"#DejaVuSans-49\"/>\n       <use x=\"63.623047\" xlink:href=\"#DejaVuSans-48\"/>\n       <use x=\"127.246094\" xlink:href=\"#DejaVuSans-48\"/>\n       <use x=\"190.869141\" xlink:href=\"#DejaVuSans-48\"/>\n      </g>\n     </g>\n    </g>\n    <g id=\"xtick_6\">\n     <g id=\"line2d_6\">\n      <g>\n       <use style=\"stroke:#000000;stroke-width:0.8;\" x=\"236.622808\" xlink:href=\"#mf64f964b7e\" y=\"54.983386\"/>\n      </g>\n     </g>\n     <g id=\"text_6\">\n      <!-- 1250 -->\n      <g transform=\"translate(223.897808 69.581823)scale(0.1 -0.1)\">\n       <use xlink:href=\"#DejaVuSans-49\"/>\n       <use x=\"63.623047\" xlink:href=\"#DejaVuSans-50\"/>\n       <use x=\"127.246094\" xlink:href=\"#DejaVuSans-53\"/>\n       <use x=\"190.869141\" xlink:href=\"#DejaVuSans-48\"/>\n      </g>\n     </g>\n    </g>\n    <g id=\"xtick_7\">\n     <g id=\"line2d_7\">\n      <g>\n       <use style=\"stroke:#000000;stroke-width:0.8;\" x=\"277.27361\" xlink:href=\"#mf64f964b7e\" y=\"54.983386\"/>\n      </g>\n     </g>\n     <g id=\"text_7\">\n      <!-- 1500 -->\n      <g transform=\"translate(264.54861 69.581823)scale(0.1 -0.1)\">\n       <use xlink:href=\"#DejaVuSans-49\"/>\n       <use x=\"63.623047\" xlink:href=\"#DejaVuSans-53\"/>\n       <use x=\"127.246094\" xlink:href=\"#DejaVuSans-48\"/>\n       <use x=\"190.869141\" xlink:href=\"#DejaVuSans-48\"/>\n      </g>\n     </g>\n    </g>\n    <g id=\"xtick_8\">\n     <g id=\"line2d_8\">\n      <g>\n       <use style=\"stroke:#000000;stroke-width:0.8;\" x=\"317.924411\" xlink:href=\"#mf64f964b7e\" y=\"54.983386\"/>\n      </g>\n     </g>\n     <g id=\"text_8\">\n      <!-- 1750 -->\n      <g transform=\"translate(305.199411 69.581823)scale(0.1 -0.1)\">\n       <use xlink:href=\"#DejaVuSans-49\"/>\n       <use x=\"63.623047\" xlink:href=\"#DejaVuSans-55\"/>\n       <use x=\"127.246094\" xlink:href=\"#DejaVuSans-53\"/>\n       <use x=\"190.869141\" xlink:href=\"#DejaVuSans-48\"/>\n      </g>\n     </g>\n    </g>\n    <g id=\"xtick_9\">\n     <g id=\"line2d_9\">\n      <g>\n       <use style=\"stroke:#000000;stroke-width:0.8;\" x=\"358.575212\" xlink:href=\"#mf64f964b7e\" y=\"54.983386\"/>\n      </g>\n     </g>\n     <g id=\"text_9\">\n      <!-- 2000 -->\n      <g transform=\"translate(345.850212 69.581823)scale(0.1 -0.1)\">\n       <use xlink:href=\"#DejaVuSans-50\"/>\n       <use x=\"63.623047\" xlink:href=\"#DejaVuSans-48\"/>\n       <use x=\"127.246094\" xlink:href=\"#DejaVuSans-48\"/>\n       <use x=\"190.869141\" xlink:href=\"#DejaVuSans-48\"/>\n      </g>\n     </g>\n    </g>\n   </g>\n   <g id=\"matplotlib.axis_2\">\n    <g id=\"ytick_1\">\n     <g id=\"line2d_10\">\n      <defs>\n       <path d=\"M 0 0 \nL -3.5 0 \n\" id=\"mde546ed96a\" style=\"stroke:#000000;stroke-width:0.8;\"/>\n      </defs>\n      <g>\n       <use style=\"stroke:#000000;stroke-width:0.8;\" x=\"33.2875\" xlink:href=\"#mde546ed96a\" y=\"10.999219\"/>\n      </g>\n     </g>\n     <g id=\"text_10\">\n      <!-- 0 -->\n      <g transform=\"translate(19.925 14.798437)scale(0.1 -0.1)\">\n       <use xlink:href=\"#DejaVuSans-48\"/>\n      </g>\n     </g>\n    </g>\n    <g id=\"ytick_2\">\n     <g id=\"line2d_11\">\n      <g>\n       <use style=\"stroke:#000000;stroke-width:0.8;\" x=\"33.2875\" xlink:href=\"#mde546ed96a\" y=\"43.51986\"/>\n      </g>\n     </g>\n     <g id=\"text_11\">\n      <!-- 200 -->\n      <g transform=\"translate(7.2 47.319079)scale(0.1 -0.1)\">\n       <use xlink:href=\"#DejaVuSans-50\"/>\n       <use x=\"63.623047\" xlink:href=\"#DejaVuSans-48\"/>\n       <use x=\"127.246094\" xlink:href=\"#DejaVuSans-48\"/>\n      </g>\n     </g>\n    </g>\n   </g>\n   <g id=\"patch_3\">\n    <path d=\"M 33.2875 54.983386 \nL 33.2875 10.917917 \n\" style=\"fill:none;stroke:#000000;stroke-linecap:square;stroke-linejoin:miter;stroke-width:0.8;\"/>\n   </g>\n   <g id=\"patch_4\">\n    <path d=\"M 368.0875 54.983386 \nL 368.0875 10.917917 \n\" style=\"fill:none;stroke:#000000;stroke-linecap:square;stroke-linejoin:miter;stroke-width:0.8;\"/>\n   </g>\n   <g id=\"patch_5\">\n    <path d=\"M 33.2875 54.983386 \nL 368.0875 54.983386 \n\" style=\"fill:none;stroke:#000000;stroke-linecap:square;stroke-linejoin:miter;stroke-width:0.8;\"/>\n   </g>\n   <g id=\"patch_6\">\n    <path d=\"M 33.2875 10.917917 \nL 368.0875 10.917917 \n\" style=\"fill:none;stroke:#000000;stroke-linecap:square;stroke-linejoin:miter;stroke-width:0.8;\"/>\n   </g>\n  </g>\n </g>\n <defs>\n  <clipPath id=\"pfbad788eda\">\n   <rect height=\"44.065469\" width=\"334.8\" x=\"33.2875\" y=\"10.917917\"/>\n  </clipPath>\n </defs>\n</svg>\n",
            "image/png": "[encoded data removed]"
          },
          "metadata": {
            "tags": [],
            "needs_background": "light"
          }
        }
      ]
    },
    {
      "cell_type": "markdown",
      "metadata": {
        "id": "eq5Gvh_RP6L6"
      },
      "source": [
        "## Pildi töötlemine\r\n",
        "Eemaldame müra, suurendame kontrasti, leiame numbrite kontuurid, mille põhjal leiame ümbritsevad kastid.\r\n",
        "Ümbritsevad kastid aitavad hiljem pildist välja lõigata osad, mida mudel peab ennustama tehtemärkideks ja numbriteks."
      ]
    },
    {
      "cell_type": "code",
      "metadata": {
        "colab": {
          "base_uri": "https://localhost:8080/",
          "height": 95
        },
        "id": "mlbWlM1vLZLx",
        "outputId": "4249907c-7711-42be-e194-965529fed755"
      },
      "source": [
        "def pildi_tootlus(img):\n",
        "  img_gray = cv2.cvtColor(img, cv2.COLOR_BGR2GRAY)\n",
        "\n",
        "  #blurimine vajalik et eemaldada müra\n",
        "  blur_img = cv2.GaussianBlur(img_gray,(5,5),0)\n",
        "  #thresholdimisega teeme hallist taustast valge ja tekstist musta\n",
        "  ret, thresh = cv2.threshold(blur_img,0,255,cv2.THRESH_BINARY+cv2.THRESH_OTSU)\n",
        "\n",
        "  # paksendan jooni kõvasti, et lähedalolevad sümbolid (nt võrdusmärgid) muutuksid üheks\n",
        "  kernel = np.ones((13,13),np.uint8)\n",
        "  thresh_dilate = cv2.erode(thresh, kernel, iterations=1)\n",
        "\n",
        "  contours,hierarchy = cv2.findContours(thresh_dilate, cv2.RETR_LIST, cv2.CHAIN_APPROX_SIMPLE)\n",
        "  # contours,hierarchy = cv2.findContours(thresh, cv2.RETR_LIST, cv2.CHAIN_APPROX_SIMPLE)\n",
        "  boxed_img = img.copy()\n",
        "  joined_boxes = []\n",
        "  for cnt in contours:\n",
        "      x,y,w,h = cv2.boundingRect(cnt)\n",
        "      # kui kast ei ole terve pildi suurune siis lisame jälgitavasse\n",
        "      if w < img_gray.shape[1] and h < img_gray.shape[0]:\n",
        "          joined_boxes.append([x,y,w,h])\n",
        "      boxed_img = cv2.rectangle(boxed_img,(x,y),(x+w,y+h),(255,0,0),1)\n",
        "\n",
        "  joined_boxes = remove_inside_boxes(joined_boxes)\n",
        "\n",
        "  imgbytes = cv2.imencode(\".png\", boxed_img)[1].tobytes()\n",
        "  plt.imshow(boxed_img)\n",
        "\n",
        "  return thresh, joined_boxes\n",
        "\n",
        "thresh, joined_boxes = pildi_tootlus(img)"
      ],
      "execution_count": 57,
      "outputs": [
        {
          "output_type": "execute_result",
          "data": {
            "text/plain": [
              "<matplotlib.image.AxesImage at 0x7fe4a058b5e0>"
            ]
          },
          "metadata": {},
          "execution_count": 11
        },
        {
          "output_type": "display_data",
          "data": {
            "image/png": "[encoded data removed]",
            "text/plain": [
              "<Figure size 432x288 with 1 Axes>"
            ]
          },
          "metadata": {
            "tags": [],
            "needs_background": "light"
          }
        }
      ]
    },
    {
      "cell_type": "code",
      "metadata": {
        "colab": {
          "base_uri": "https://localhost:8080/",
          "height": 86
        },
        "id": "8QF_xsNBLZLy",
        "outputId": "e957303b-f747-42c2-b419-6eaf687476ad"
      },
      "source": [
        "order_boxes(joined_boxes)\n",
        "crops = get_crops(thresh, joined_boxes, True)\n",
        "\n",
        "crops = make_square(crops)\n",
        "tiny_crops = make_square(crops, 45)\n",
        "draw_crops(crops, draw_axis=\"off\")"
      ],
      "execution_count": 65,
      "outputs": [
        {
          "output_type": "stream",
          "text": [
            "/usr/local/lib/python3.6/dist-packages/ipykernel_launcher.py:70: MatplotlibDeprecationWarning: Adding an axes using the same arguments as a previous axes currently reuses the earlier instance.  In a future version, a new instance will always be created and returned.  Meanwhile, this warning can be suppressed, and the future behavior ensured, by passing a unique label to each axes instance.\n"
          ],
          "name": "stderr"
        },
        {
          "output_type": "display_data",
          "data": {
            "image/png": "[encoded data removed]",
            "text/plain": [
              "<Figure size 432x288 with 16 Axes>"
            ]
          },
          "metadata": {
            "tags": [],
            "needs_background": "light"
          }
        }
      ]
    },
    {
      "cell_type": "markdown",
      "metadata": {
        "id": "4HHlAf1cZmMw"
      },
      "source": [
        "Veel üks näide:"
      ]
    },
    {
      "cell_type": "code",
      "metadata": {
        "colab": {
          "base_uri": "https://localhost:8080/",
          "height": 116
        },
        "id": "b1RuDtssX-FO",
        "outputId": "71e21323-6f80-4885-cd58-2dd8c9ef60b3"
      },
      "source": [
        "img2 = cv2.imread('test_images/bigger_sintan.png')\r\n",
        "plt.imshow(img2)"
      ],
      "execution_count": 66,
      "outputs": [
        {
          "output_type": "execute_result",
          "data": {
            "text/plain": [
              "<matplotlib.image.AxesImage at 0x7f67b36e37f0>"
            ]
          },
          "metadata": {
            "tags": []
          },
          "execution_count": 66
        },
        {
          "output_type": "display_data",
          "data": {
            "image/png": "[encoded data removed]",
            "text/plain": [
              "<Figure size 432x288 with 1 Axes>"
            ]
          },
          "metadata": {
            "tags": [],
            "needs_background": "light"
          }
        }
      ]
    },
    {
      "cell_type": "code",
      "metadata": {
        "colab": {
          "base_uri": "https://localhost:8080/",
          "height": 98
        },
        "id": "bPddNQvWYU-B",
        "outputId": "1c434deb-4ed2-4df5-dc1b-a3bb85a096b2"
      },
      "source": [
        "thresh2, joined_boxes2 = pildi_tootlus(img2)"
      ],
      "execution_count": 67,
      "outputs": [
        {
          "output_type": "display_data",
          "data": {
            "image/png": "[encoded data removed]",
            "text/plain": [
              "<Figure size 432x288 with 1 Axes>"
            ]
          },
          "metadata": {
            "tags": [],
            "needs_background": "light"
          }
        }
      ]
    },
    {
      "cell_type": "code",
      "metadata": {
        "colab": {
          "base_uri": "https://localhost:8080/",
          "height": 62
        },
        "id": "tDvknMimY7TP",
        "outputId": "cdd092ed-1956-4828-e7a4-a4837060e645"
      },
      "source": [
        "order_boxes(joined_boxes2)\r\n",
        "draw_crops(make_square(get_crops(thresh2, joined_boxes2, False),45), draw_axis=\"off\")"
      ],
      "execution_count": 68,
      "outputs": [
        {
          "output_type": "display_data",
          "data": {
            "image/png": "[encoded data removed]",
            "text/plain": [
              "<Figure size 432x288 with 9 Axes>"
            ]
          },
          "metadata": {
            "tags": [],
            "needs_background": "light"
          }
        }
      ]
    },
    {
      "cell_type": "markdown",
      "metadata": {
        "id": "gDk3PzPyQunE"
      },
      "source": [
        "# Mudel ja treenimine\r\n",
        "\r\n",
        "Mudeli treenimiseks kasutasime Kaggle'i andmestiku [Handwritten math symbols dataset](https://www.kaggle.com/xainano/handwrittenmathsymbols). See andmestik sisaldab nii matemaatilisi sümboleid kui ka numbreid ja mõningaid tähti. Pildid on suurusega 45x45.\r\n",
        "\r\n",
        "Kasutasime Kaggle'i [postituses](https://www.kaggle.com/xainano/handwrittenmathsymbols/discussion/85277) esitatud skripti et puhastada andmestik duplikaatidest (üle 80% algandmetest).\r\n",
        "\r\n",
        "Täpsem treenimine on nähtav Gitis: https://github.com/ilmaruduste/picture_calculator/blob/dev/math_symbol_classification_ml.ipynb"
      ]
    },
    {
      "cell_type": "code",
      "metadata": {
        "colab": {
          "base_uri": "https://localhost:8080/",
          "height": 48
        },
        "id": "o9ZrvCVVLZLz",
        "outputId": "f2ce911d-0341-43dc-e140-3613ba245dc9"
      },
      "source": [
        "#Peame mudeli sisendiks tegema piltidel jooned õhemaks, kuna treening pildid on väga peenikeste joontega\n",
        "kernel = np.ones((2,2),np.uint8)\n",
        "dilated_crops = np.array([cv2.dilate(crop, kernel, iterations=2) for crop in tiny_crops])\n",
        "draw_crops(dilated_crops, draw_axis=\"off\")\n",
        "\n",
        "predictions = loaded_model.predict(dilated_crops)\n",
        "predictions = [np.array(prediction).argmax() for prediction in predictions]"
      ],
      "execution_count": 34,
      "outputs": [
        {
          "output_type": "display_data",
          "data": {
            "image/png": "[encoded data removed]",
            "text/plain": [
              "<Figure size 432x288 with 16 Axes>"
            ]
          },
          "metadata": {
            "tags": [],
            "needs_background": "light"
          }
        }
      ]
    },
    {
      "cell_type": "code",
      "metadata": {
        "colab": {
          "base_uri": "https://localhost:8080/"
        },
        "id": "l7n5J7EEPAs0",
        "outputId": "a5c9e0df-0995-43c0-c6e3-66589e06cfc0"
      },
      "source": [
        "tehe_pildil = true_labels[predictions]\r\n",
        "tehe_pildil"
      ],
      "execution_count": 35,
      "outputs": [
        {
          "output_type": "execute_result",
          "data": {
            "text/plain": [
              "array(['+', '1', '2', 'sin', '3', '4', 'div', '5', '6', '1', 'A', '7',\n",
              "       '8', '1', '9', '6'], dtype=object)"
            ]
          },
          "metadata": {
            "tags": []
          },
          "execution_count": 35
        }
      ]
    },
    {
      "cell_type": "markdown",
      "metadata": {
        "id": "mQsR33r7V3LN"
      },
      "source": [
        "Nagu näha, siis mudel ei suuda väga häesti ennustada, mis on piltidel, vähemalt mitte piisavalt hästi, et seda saaks sisendina kasutada kalkulaatoris."
      ]
    },
    {
      "cell_type": "markdown",
      "metadata": {
        "id": "rPuV3volQ9DA"
      },
      "source": [
        "# Kalkulaatorid\r\n",
        "Projekti käigus valmis kaks kalkulaatori versiooni. Mõlemad kalkulaatorid võtavad sisendiks mudeli väljastatud listi pildilt leitud elementidest.\r\n",
        "\r\n",
        "Üks kalkulaator võimaldab lihtsate tehete korral +-*/ võrrandis oleva suure A väärtust arvutada.\r\n",
        "\r\n",
        "Teine kalkulaator võimaldab arvutada ilma muutujateta tehteid, tuvastab märke +-*/() sin tan cos pi."
      ]
    },
    {
      "cell_type": "markdown",
      "metadata": {
        "id": "ID15890ESN3v"
      },
      "source": [
        "## Võrrandi A suhtes lahendav kalkulaator\r\n",
        "\r\n",
        "Kalkulaator eeldab, et A esineb ainult ühes kohas võrrandis."
      ]
    },
    {
      "cell_type": "code",
      "metadata": {
        "id": "av6Q9CAMRfBH"
      },
      "source": [
        "def find_A(equation_list, eelmine_tehtepool = None, algne = None):\r\n",
        "    if algne == None:\r\n",
        "        algne = ''.join(equation_list)\r\n",
        "    #ühenda täisarvud stringidena\r\n",
        "    new_equation_list = []\r\n",
        "    for i, element in enumerate(equation_list):\r\n",
        "        try:\r\n",
        "            #kui liitmistehe õnnestub, siis on tegu numbritega.\r\n",
        "            number = int(new_equation_list[-1])+int(element)\r\n",
        "            #eelmisele elemendile lisan uue elemendi\r\n",
        "            new_equation_list[-1] = new_equation_list[-1]+str(element)\r\n",
        "        except:\r\n",
        "            #kui ei olnud number, või eelmine ei olnud number, siis lisan uue\r\n",
        "            new_equation_list.append(element)\r\n",
        "    equation_list = new_equation_list\r\n",
        "        \r\n",
        "    #panen kokku ühest tehtemärgist teise tehtemärgini, va =\r\n",
        "    #esimene märk ei pruugi olla tehtemärk\r\n",
        "    tehtemargid = [0]\r\n",
        "    for i in range(len(equation_list)):\r\n",
        "        if equation_list[i] in [\"+\",\"-\",\"/\",\"*\"]:\r\n",
        "            tehtemargid.append(i)\r\n",
        "        #võrdusmärgi peaks teistest eraldama\r\n",
        "        if equation_list[i] == \"=\":\r\n",
        "            tehtemargid.append(i)\r\n",
        "            tehtemargid.append(i+1)\r\n",
        "    #viimane sümbol ei saa olla tehtemärk, aga on vaja teada mis oleks viimane sümbol\r\n",
        "    tehtemargid.append(len(equation_list))\r\n",
        "            \r\n",
        "    tehted = []\r\n",
        "    for i in range(len(tehtemargid)-1):\r\n",
        "        tehted.append(''.join(equation_list[tehtemargid[i]:tehtemargid[i+1]]))\r\n",
        "    #eemaldan null kirjed, mis tekivad kui esimene sümbol ON tehtemärk\r\n",
        "    tehted = list(filter(None, tehted))\r\n",
        "    \r\n",
        "    #korrutamise ja jagamise tehted on keerulisemad\r\n",
        "    korjag = []\r\n",
        "    for i in range(len(tehted)):\r\n",
        "        if tehted[i][0] in [\"/\",\"*\"]:\r\n",
        "            korjag[-1] = korjag[-1]+str(tehted[i])\r\n",
        "        #peale \r\n",
        "        else:\r\n",
        "            korjag.append(tehted[i])\r\n",
        "    tehted = korjag\r\n",
        "            \r\n",
        "    #kus on A\r\n",
        "    A_loc = [i for i, tehe in enumerate(tehted) if 'A' in tehe] #eeldan alguses et A on ainult 1\r\n",
        "    A_element = tehted[A_loc[0]]\r\n",
        "    \r\n",
        "    #kus on =\r\n",
        "    eq_loc = tehted.index('=')\r\n",
        "    \r\n",
        "    #jaotan tehte A-ga pooleks ja tehtega pooleks\r\n",
        "    if A_loc[0] < eq_loc:\r\n",
        "        A_pool = tehted[:eq_loc]\r\n",
        "        tehte_pool = ''.join(tehted[eq_loc+1:])\r\n",
        "    else:\r\n",
        "        A_pool = tehted[eq_loc+1:]\r\n",
        "        tehte_pool = ''.join(tehted[:eq_loc])\r\n",
        "    \r\n",
        "    #tõstan A-i poolelt ära kõik elemendid, mis ei sisalda A-i\r\n",
        "    if len(A_pool) > 1:\r\n",
        "        for element in A_pool:\r\n",
        "            if element != A_element:\r\n",
        "                tehte_pool = '('+tehte_pool+')'+switch_sign(element)\r\n",
        "    \r\n",
        "    A_pool = A_element        \r\n",
        "    \r\n",
        "    if \"*\" in A_pool:\r\n",
        "        splititud = A_pool.split('*')\r\n",
        "        for element in splititud:\r\n",
        "            if \"A\" not in element:\r\n",
        "                tehte_pool = '('+tehte_pool+')'+\"/\"+element\r\n",
        "            if \"A\" in element:\r\n",
        "                A_pool = element\r\n",
        "    \r\n",
        "    if \"/\" in A_pool:\r\n",
        "        A_loc = A_pool.index(\"A\")\r\n",
        "        div_loc = A_pool.index('/')\r\n",
        "        if A_loc < div_loc:\r\n",
        "            splititud = A_pool.split('/')\r\n",
        "            tehte_pool = '('+tehte_pool+')'+\"*\"+splititud[1]\r\n",
        "            A_pool = splititud[0]\r\n",
        "        else:\r\n",
        "            splititud = A_pool.split('/')\r\n",
        "            tehte_pool = splititud[0]+\"/\"+'('+tehte_pool+')'\r\n",
        "            A_pool = splititud[1]\r\n",
        "        \r\n",
        "    if len(A_pool)>1: # peaks võimalik olema ainult siis, kui A-il on korrutusmärgita kordaja\r\n",
        "        splititud = A_pool.split(\"A\")\r\n",
        "        for element in splititud:\r\n",
        "            if element != '':\r\n",
        "                if len(element)==1 and element.isdigit()==False:\r\n",
        "                    element=element+\"1\"\r\n",
        "                tehte_pool = '('+tehte_pool+')'+\"/\"+element\r\n",
        "                A_pool = \"A\"\r\n",
        "                \r\n",
        "    if len(A_pool) == 1:\r\n",
        "        return algne+ \"   =>   A=\"+ str(eval(tehte_pool))\r\n",
        "    else:\r\n",
        "        vabandus = \"Antud tehe on kalkulaatorile liiga keeruline. Vabandust.\" \r\n",
        "        lopp_tehe = A_pool +\"=\"+tehte_pool\r\n",
        "        return vabandus + \"Jõudsin nii kaugele:\" + lopp_tehe\r\n",
        "\r\n",
        "def switch_sign(element):\r\n",
        "    symbol = element[0]\r\n",
        "    if symbol not in [\"+\",\"-\",\"/\",\"*\"]:\r\n",
        "        return '-'+element[0:]\r\n",
        "    elif symbol == \"+\":\r\n",
        "        return '-'+element[1:]\r\n",
        "    elif symbol == \"-\":\r\n",
        "        return '+'+element[1:]\r\n",
        "    elif symbol == \"*\":\r\n",
        "        return '/'+element[1:]\r\n",
        "    elif symbol == \"/\":\r\n",
        "        return '*'+element[1:]"
      ],
      "execution_count": 37,
      "outputs": []
    },
    {
      "cell_type": "code",
      "metadata": {
        "colab": {
          "base_uri": "https://localhost:8080/"
        },
        "id": "EFOZRFL1R4_S",
        "outputId": "db48e8ff-2666-465d-f73b-8dc31a6af148"
      },
      "source": [
        "model_output = [\"A\",\"-\",\"7\",\"=\",\"1\",\"2\",\"3\"]\r\n",
        "print(find_A(model_output))\r\n",
        "print(\"-----\")\r\n",
        "model_output = [\"3\",\"A\",\"+\",\"5\",\"=\",\"0\",\"+\",\"5\"]\r\n",
        "print(find_A(model_output))\r\n",
        "print(\"-----\")\r\n",
        "model_output = [\"6\",\"*\",\"A\",\"+\",\"5\",\"+\",\"5\",\"=\",\"7\",\"2\",\"/\",\"6\"]\r\n",
        "print(find_A(model_output))\r\n",
        "print(\"-----\")\r\n",
        "model_output = [\"-\",\"A\",\"/\",\"3\",\"=\",\"4\"]\r\n",
        "print(find_A(model_output))\r\n",
        "print(\"-----\")\r\n",
        "model_output = [\"5\",\"=\",\"-\",\"15\",\"/\",\"3\",\"A\"]\r\n",
        "print(find_A(model_output))\r\n",
        "print(\"-----\")\r\n",
        "model_output = [\"5\",\"+\",\"3\",\"A\", \"+\", \"9\",\"=\",\"0\"]\r\n",
        "print(find_A(model_output))\r\n",
        "print(\"-----\")\r\n",
        "model_output = list(\"6*A/7=1\")\r\n",
        "print(find_A(model_output))\r\n",
        "print(\"-----\")\r\n",
        "model_output = list(\"6*3/2=A+5\")\r\n",
        "print(find_A(model_output))"
      ],
      "execution_count": 38,
      "outputs": [
        {
          "output_type": "stream",
          "text": [
            "A-7=123   =>   A=130\n",
            "-----\n",
            "3A+5=0+5   =>   A=0.0\n",
            "-----\n",
            "6*A+5+5=72/6   =>   A=0.3333333333333333\n",
            "-----\n",
            "-A/3=4   =>   A=-12.0\n",
            "-----\n",
            "5=-15/3A   =>   A=-1.0\n",
            "-----\n",
            "5+3A+9=0   =>   A=-4.666666666666667\n",
            "-----\n",
            "6*A/7=1   =>   A=1.1666666666666665\n",
            "-----\n",
            "6*3/2=A+5   =>   A=4.0\n"
          ],
          "name": "stdout"
        }
      ]
    },
    {
      "cell_type": "markdown",
      "metadata": {
        "id": "NkbuyxcPSYdI"
      },
      "source": [
        "## Tehte kalkulaator"
      ]
    },
    {
      "cell_type": "code",
      "metadata": {
        "id": "7tBR2-AASGUm"
      },
      "source": [
        "def calculate(equation_list,debug=False):\r\n",
        "    #try:\r\n",
        "        algne = equation_list.copy()\r\n",
        "        \r\n",
        "        if debug:\r\n",
        "            print(''.join(equation_list))\r\n",
        "                    \r\n",
        "        #sin, cos, tan peaks leidma\r\n",
        "        # trig funktsioonile järgnevast avaldisest kuni järgmise pluss, miinus märgini\r\n",
        "        # v.a siis kui järgmine element on juba sulg\r\n",
        "        for i, element in enumerate(equation_list):\r\n",
        "            if element in [\"sin\",\"cos\",\"tan\"] and equation_list[i+1] != \"(\":\r\n",
        "                equation_list.insert(i+1,\"(\")\r\n",
        "                loppev_sulg_ix = find_next(equation_list, i, [\"+\",\"-\",\"sin\",\"cos\",\"tan\"])\r\n",
        "                if loppev_sulg_ix != i:\r\n",
        "                    equation_list.insert(loppev_sulg_ix,\")\")\r\n",
        "                else:\r\n",
        "                    equation_list.insert(len(equation_list),\")\")\r\n",
        "        \r\n",
        "        if debug:\r\n",
        "            print(''.join(equation_list)) \r\n",
        "            \r\n",
        "        #kui trig funktsioonide vahele oli pandud jagamis/kordusmärk, siis võis siin tekkida probleem \"*)\" või \"/)\"\r\n",
        "        for i, element in enumerate(equation_list):\r\n",
        "            if element == \")\" and equation_list[i-1] in [\"*\",\"/\"]:\r\n",
        "                equation_list[i]=equation_list[i-1]\r\n",
        "                equation_list[i-1]=\")\"\r\n",
        "            \r\n",
        "        #teatud tehted on ainult math moodulist\r\n",
        "        for i, element in enumerate(equation_list):\r\n",
        "            if element in [\"sin\",\"cos\",\"tan\", \"pi\"]:\r\n",
        "                equation_list[i]=\"math.\"+equation_list[i]\r\n",
        "        \r\n",
        "        if debug:\r\n",
        "            print(equation_list)            \r\n",
        "            \r\n",
        "        #math mooduli tehted võivad olla võrrandis järjest ilma korrutusmärgita, seda python ei oska lugeda\r\n",
        "        # selleks hetkeks funktsioonis on kõigi math moodulite avaldised sulgudes\r\n",
        "        \r\n",
        "        for i, element in enumerate(equation_list):\r\n",
        "            if \"math\" in element and i != 0 and equation_list[i-1] in [\")\",\"math.pi\",\"0\",\"1\",\"2\",\"3\",\"4\",\"5\",\"6\",\"7\",\"8\",\"9\"]:\r\n",
        "                equation_list.insert(i,\"*\")\r\n",
        "            if element == \"math.pi\" and i != len(equation_list)-1 and equation_list[i+1] in [\"(\",\"math.pi\",\"0\",\"1\",\"2\",\"3\",\"4\",\"5\",\"6\",\"7\",\"8\",\"9\"]:\r\n",
        "                equation_list.insert(i+1,\"*\")\r\n",
        "                \r\n",
        "        if debug:\r\n",
        "            print(equation_list)            \r\n",
        "        \r\n",
        "        return ''.join(''.join(algne)+\"=>\"+''.join(equation_list)+\"=\"+ str(eval(''.join(equation_list))))\r\n",
        "    #except:\r\n",
        "     #   return \"Antud tehe ei ole matemaatiliselt korrektne.\"\r\n",
        "\r\n",
        "#tagastab järgmise lookup_symbol listi kuuluva elemendi indeksi\r\n",
        "def find_next(equation_list, current_index, lookup_symbols):\r\n",
        "    locations = [i for i, symbol in enumerate(equation_list) if symbol in lookup_symbols]\r\n",
        "    next_index = current_index\r\n",
        "    for index in locations:\r\n",
        "        if index > next_index:\r\n",
        "            return index\r\n",
        "    return next_index\r\n",
        "\r\n",
        "#tagastab eelmise lookup_symbol listi kuuluva elemendi indeksi\r\n",
        "def find_prev(equation_list, current_index, lookup_symbols):\r\n",
        "    locations = [i for i, symbol in enumerate(equation_list) if symbol in lookup_symbols]\r\n",
        "    prev_index = current_index\r\n",
        "    for index in locations:\r\n",
        "        if index < prev_index:\r\n",
        "            return index\r\n",
        "    return prev_index"
      ],
      "execution_count": 40,
      "outputs": []
    },
    {
      "cell_type": "code",
      "metadata": {
        "colab": {
          "base_uri": "https://localhost:8080/"
        },
        "id": "jxcMqPOjShbM",
        "outputId": "6f854f31-ff17-4a23-cffb-c22e00d0c03e"
      },
      "source": [
        "print(calculate([\"cos\",\"1\",\"0\",\"*\",\"sin\",\"1\",\"0\"]))\r\n",
        "print(calculate([\"tan\",\"1\",\"0\",\"sin\",\"1\",\"0\"]))\r\n",
        "print(calculate([\"cos\",\"10\",\"+\",\"3\",\"sin\",\"10\"]))\r\n",
        "print(calculate([\"sin\",\"1\",\"+\",\"2\"]))\r\n",
        "print(calculate([\"sin\",\"1\"]))\r\n",
        "print(calculate([\"pi\",\"3\"]))\r\n",
        "print(calculate([\"1\",\"2\",\"3\",\"+\",\"7\"]))\r\n",
        "print(calculate([\"0\",\"+\",\"5\",\"/\",\"3\"]))\r\n",
        "print(calculate([\"7\",\"2\",\"/\",\"6\",\"-\",\"10\",\"/\",\"6\"]))\r\n",
        "print(calculate([\"-\",\"4\",\"/\",\"3\"]))\r\n",
        "print(calculate([\"15\",\"/\",\"3\",\"-\",\"5\"]))\r\n",
        "print(calculate([\"5\",\"+\",\"3\", \"+\", \"9\"]))\r\n",
        "print(calculate(list(\"6*1/7\")))\r\n",
        "print(calculate(list(\"6*3/2+5\")))"
      ],
      "execution_count": 41,
      "outputs": [
        {
          "output_type": "stream",
          "text": [
            "cos10*sin10=>math.cos(10)*math.sin(10)=0.4564726253638138\n",
            "tan10sin10=>math.tan(10)*math.sin(10)=-0.3527219776114433\n",
            "cos10+3sin10=>math.cos(10)+3*math.sin(10)=-2.4711348617445617\n",
            "sin1+2=>math.sin(1)+2=2.8414709848078967\n",
            "sin1=>math.sin(1)=0.8414709848078965\n",
            "pi3=>math.pi*3=9.42477796076938\n",
            "123+7=>123+7=130\n",
            "0+5/3=>0+5/3=1.6666666666666667\n",
            "72/6-10/6=>72/6-10/6=10.333333333333334\n",
            "-4/3=>-4/3=-1.3333333333333333\n",
            "15/3-5=>15/3-5=0.0\n",
            "5+3+9=>5+3+9=17\n",
            "6*1/7=>6*1/7=0.8571428571428571\n",
            "6*3/2+5=>6*3/2+5=14.0\n"
          ],
          "name": "stdout"
        }
      ]
    },
    {
      "cell_type": "markdown",
      "metadata": {
        "id": "st3QITF2TBTt"
      },
      "source": [
        "# Kokkuvõte\r\n",
        "\r\n",
        "Pildikalkulaatori tegemisel kõige keerulisemaks osaks sai mudeli treenimine/rakendamine.\r\n",
        "\r\n",
        "Tekkinud probleemid:\r\n",
        "* Mudeli treenimiseks kasutatud pildid erinevad palju enda tehtavatest piltidest.\r\n",
        "* Erinevad kirjutusriistad teevad erineva jämedusega jooni.\r\n",
        "* Andmestikus oli palju duplikaate.\r\n",
        "\r\n",
        "Pilditöötluse osaga võib täitsa rahule jääda, kuna suutsime üpris hästi tuvastada kus asuvad numbrid ja märgid pildil. Kalkulaatorite jaoks algoritmide välja mõtlemine oli keerukas ja tundus nagu jalgratta leiutamine. Samas valminud kalkulaatorid, vähemalt meie testimise põhjal, töötavad nii nagu oodatud.\r\n",
        "\r\n",
        "Rohkem koodi tehtud projekti kohta meie GitHubis https://github.com/ilmaruduste/picture_calculator."
      ]
    }
  ]
}