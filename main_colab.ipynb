{
  "nbformat": 4,
  "nbformat_minor": 0,
  "metadata": {
    "kernelspec": {
      "display_name": "Python 3",
      "language": "python",
      "name": "python3"
    },
    "language_info": {
      "codemirror_mode": {
        "name": "ipython",
        "version": 3
      },
      "file_extension": ".py",
      "mimetype": "text/x-python",
      "name": "python",
      "nbconvert_exporter": "python",
      "pygments_lexer": "ipython3",
      "version": "3.6.8"
    },
    "colab": {
      "name": "main_colab.ipynb",
      "provenance": [],
      "collapsed_sections": []
    }
  },
  "cells": [
    {
      "cell_type": "code",
      "metadata": {
        "id": "ncMAFQkWLZLn"
      },
      "source": [
        "import os.path\n",
        "import cv2\n",
        "import numpy as np\n",
        "import keras\n",
        "import pandas as pd\n",
        "import matplotlib.pyplot as plt\n",
        "import sys\n",
        "import math"
      ],
      "execution_count": 39,
      "outputs": []
    },
    {
      "cell_type": "code",
      "metadata": {
        "id": "9H5eqGmqLZLv"
      },
      "source": [
        "######## DEFINE FUNCTIONS ########\n",
        "#sorteerib kastid nende x koordinaadi väärtuse põhjal\n",
        "#st. et eeldame et tehe on kirjutatud ühes reas\n",
        "def order_boxes(boxes):\n",
        "    boxes.sort(key=lambda x:x[0])\n",
        "\n",
        "# def get_areas(boxes):\n",
        "#     areas = []\n",
        "#     for box in boxes:\n",
        "#         areas.append(box[2]*box[3])\n",
        "#     return areas\n",
        "\n",
        "#eemaldab bounding boxid mis on teiste bounding boxide sees\n",
        "def remove_inside_boxes(boxes):\n",
        "    remove_boxes = []\n",
        "    for box_has_parent in boxes:\n",
        "        xc,yc,wc,hc = box_has_parent\n",
        "        for box_parent in boxes:\n",
        "            xp,yp,wp,hp = box_parent\n",
        "            if xc>=xp and yc>=yp and xp+wp>=xc+wc and yp+hp>=yc+hc and box_has_parent != box_parent:\n",
        "                remove_boxes.append(box_has_parent)\n",
        "    for box in remove_boxes:\n",
        "        boxes.remove(box)\n",
        "    return boxes\n",
        "\n",
        "#lõikab bounding boxide põhjal välja pildist huvipakkuvad pildid\n",
        "def get_crops(image, boxes, draw=False):\n",
        "    crops = []\n",
        "    for box in boxes:\n",
        "        x,y,w,h = box\n",
        "        crops.append(image[y:y+h,x:x+w])\n",
        "    if draw:\n",
        "        for i, crop in enumerate(crops):\n",
        "            plt.subplot(1,len(crops),i+1)\n",
        "            #plt.axis('off')\n",
        "            plt.imshow(crop, cmap=\"gray\")\n",
        "    return crops\n",
        "\n",
        "#muudab pildid listis ruudukujuliseks, lisades puhvrit ümber\n",
        "def make_square(image_list, square_size=None):\n",
        "    ruudud = []\n",
        "    for image in image_list:\n",
        "        h, w = image.shape\n",
        "        og_square_edge = max(h,w)\n",
        "        if h > w:\n",
        "            pool = (h-w)//2\n",
        "            #vasakule liidetav pilt, laiusega pool, kõrgusega h, värv 255\n",
        "            vasakule = np.full((h,pool), 255)\n",
        "            #paremale liidetav pilt, laiusega h-w-pool, kõrgusega h, värv 255\n",
        "            paremale = np.full((h,h-w-pool), 255)\n",
        "            ruudud.append(np.concatenate((vasakule,image,paremale), axis=1))\n",
        "        else:\n",
        "            pool = (w-h)//2\n",
        "            #ules liidetav pilt, laiusega w, kõrgusega pool, värv 255\n",
        "            ules = np.full((pool, w), 255)\n",
        "            #alla liidetav pilt, laiusega w, kõrgusega w-h-pool, värv 255\n",
        "            alla = np.full((w-h-pool, w), 255)\n",
        "            ruudud.append(np.concatenate((ules,image,alla), axis=0))\n",
        "      \n",
        "    #vajadusel muudab ruutude suurust\n",
        "    if square_size != None:\n",
        "        lopp_ruudud = []\n",
        "        for image in ruudud:\n",
        "            lopp_ruudud.append(cv2.resize(np.array(image, dtype='uint8'), (square_size, square_size), interpolation=cv2.INTER_AREA))\n",
        "        ruudud = lopp_ruudud\n",
        "    return ruudud\n",
        "\n",
        "#väljalõigatud piltide visualiseerimiseks\n",
        "def draw_crops(crops, draw_axis='on'):\n",
        "    for i, crop in enumerate(crops):\n",
        "            plt.subplot(1,len(crops),i+1)\n",
        "            plt.axis(draw_axis)\n",
        "            plt.imshow(crop, cmap=\"gray\")\n",
        "            # plt.imshow(crop)"
      ],
      "execution_count": 26,
      "outputs": []
    },
    {
      "cell_type": "code",
      "metadata": {
        "id": "eDBVOJVuLZLw"
      },
      "source": [
        "######## LOAD MODEL AND LABELS ########\n",
        "loaded_model = keras.models.load_model('./math_symbol_classifier_model_v5')\n",
        "labels_df = pd.read_csv('labels_df_5.csv', sep=';')\n",
        "# loaded_model = keras.models.load_model('./math_symbol_classifier_model_v4')\n",
        "# labels_df = pd.read_csv('labels_df_4.csv', sep=';')\n",
        "labels_df.drop(labels_df.columns[0], axis=1, inplace=True)\n",
        "true_labels = np.array(labels_df['true_label'])"
      ],
      "execution_count": 16,
      "outputs": []
    },
    {
      "cell_type": "markdown",
      "metadata": {
        "id": "gGrw_VDAP1q9"
      },
      "source": [
        "#Pilditöötlus\r\n",
        "\r\n",
        "Pildikalkulaatori esimene samm on pilditöötlus\r\n",
        "\r\n",
        "##Pildi sisselugemine\r\n",
        "\r\n",
        "Testimiseks kasutatud pildid leiab siit:\r\n",
        "https://drive.google.com/drive/folders/1DgyAjqd-hFdPVKjGqwXlpsRn4YtYqpwl "
      ]
    },
    {
      "cell_type": "code",
      "metadata": {
        "id": "dmLCv2AQLZLw"
      },
      "source": [
        "filename = 'test_images/bigger_all_numbers.png'"
      ],
      "execution_count": 7,
      "outputs": []
    },
    {
      "cell_type": "code",
      "metadata": {
        "colab": {
          "base_uri": "https://localhost:8080/",
          "height": 113
        },
        "id": "Ue57bXaRLZLw",
        "outputId": "5a660d61-6fd2-4a85-8862-899c693a1178"
      },
      "source": [
        "img = cv2.imread(filename)\n",
        "plt.imshow(img)"
      ],
      "execution_count": 8,
      "outputs": [
        {
          "output_type": "execute_result",
          "data": {
            "text/plain": [
              "<matplotlib.image.AxesImage at 0x7f67bb752828>"
            ]
          },
          "metadata": {
            "tags": []
          },
          "execution_count": 8
        },
        {
          "output_type": "display_data",
          "data": {
            "image/png": "[encoded data removed]",
            "text/plain": [
              "<Figure size 432x288 with 1 Axes>"
            ]
          },
          "metadata": {
            "tags": [],
            "needs_background": "light"
          }
        }
      ]
    },
    {
      "cell_type": "markdown",
      "metadata": {
        "id": "eq5Gvh_RP6L6"
      },
      "source": [
        "## Pildi töötlemine\r\n",
        "Eemaldame müra, suurendame kontrasti, leiame numbrite kontuurid, mille põhjal leiame ümbritsevad kastid.\r\n",
        "Ümbritsevad kastid aitavad hiljem pildist välja lõigata osad, mida mudel peab ennustama tehtemärkideks ja numbriteks."
      ]
    },
    {
      "cell_type": "code",
      "metadata": {
        "colab": {
          "base_uri": "https://localhost:8080/",
          "height": 113
        },
        "id": "mlbWlM1vLZLx",
        "outputId": "6080c090-3832-4f3d-a42a-63a4bcea5431"
      },
      "source": [
        "img = cv2.imread(filename)\n",
        "\n",
        "img_gray = cv2.cvtColor(img, cv2.COLOR_BGR2GRAY)\n",
        "\n",
        "#blurimine vajalik et eemaldada müra\n",
        "blur_img = cv2.GaussianBlur(img_gray,(5,5),0)\n",
        "#thresholdimisega teeme hallist taustast valge ja tekstist musta\n",
        "ret, thresh = cv2.threshold(blur_img,0,255,cv2.THRESH_BINARY+cv2.THRESH_OTSU)\n",
        "\n",
        "# paksendan jooni kõvasti, et lähedalolevad sümbolid (nt võrdusmärgid) muutuksid üheks\n",
        "kernel = np.ones((13,13),np.uint8)\n",
        "thresh_dilate = cv2.erode(thresh, kernel, iterations=1)\n",
        "\n",
        "contours,hierarchy = cv2.findContours(thresh_dilate, cv2.RETR_LIST, cv2.CHAIN_APPROX_SIMPLE)\n",
        "# contours,hierarchy = cv2.findContours(thresh, cv2.RETR_LIST, cv2.CHAIN_APPROX_SIMPLE)\n",
        "boxed_img = img.copy()\n",
        "joined_boxes = []\n",
        "for cnt in contours:\n",
        "    x,y,w,h = cv2.boundingRect(cnt)\n",
        "    # kui kast ei ole terve pildi suurune siis lisame jälgitavasse\n",
        "    if w < img_gray.shape[1] and h < img_gray.shape[0]:\n",
        "        joined_boxes.append([x,y,w,h])\n",
        "    boxed_img = cv2.rectangle(boxed_img,(x,y),(x+w,y+h),(255,0,0),1)\n",
        "\n",
        "joined_boxes = remove_inside_boxes(joined_boxes)\n",
        "\n",
        "imgbytes = cv2.imencode(\".png\", boxed_img)[1].tobytes()\n",
        "plt.imshow(boxed_img)"
      ],
      "execution_count": 11,
      "outputs": [
        {
          "output_type": "execute_result",
          "data": {
            "text/plain": [
              "<matplotlib.image.AxesImage at 0x7f67ba8a9ba8>"
            ]
          },
          "metadata": {
            "tags": []
          },
          "execution_count": 11
        },
        {
          "output_type": "display_data",
          "data": {
            "image/png": "[encoded data removed]",
            "text/plain": [
              "<Figure size 432x288 with 1 Axes>"
            ]
          },
          "metadata": {
            "tags": [],
            "needs_background": "light"
          }
        }
      ]
    },
    {
      "cell_type": "code",
      "metadata": {
        "colab": {
          "base_uri": "https://localhost:8080/",
          "height": 86
        },
        "id": "8QF_xsNBLZLy",
        "outputId": "b13d6ade-9a15-4852-b112-125460043d98"
      },
      "source": [
        "order_boxes(joined_boxes)\n",
        "crops = get_crops(thresh, joined_boxes, True)\n",
        "\n",
        "crops = make_square(crops)\n",
        "tiny_crops = make_square(crops, 45)\n",
        "draw_crops(crops, draw_axis=\"off\")"
      ],
      "execution_count": 22,
      "outputs": [
        {
          "output_type": "stream",
          "text": [
            "/usr/local/lib/python3.6/dist-packages/ipykernel_launcher.py:70: MatplotlibDeprecationWarning: Adding an axes using the same arguments as a previous axes currently reuses the earlier instance.  In a future version, a new instance will always be created and returned.  Meanwhile, this warning can be suppressed, and the future behavior ensured, by passing a unique label to each axes instance.\n"
          ],
          "name": "stderr"
        },
        {
          "output_type": "display_data",
          "data": {
            "image/png": "[encoded data removed]",
            "text/plain": [
              "<Figure size 432x288 with 16 Axes>"
            ]
          },
          "metadata": {
            "tags": [],
            "needs_background": "light"
          }
        }
      ]
    },
    {
      "cell_type": "markdown",
      "metadata": {
        "id": "gDk3PzPyQunE"
      },
      "source": [
        "# Mudel ja treenimine\r\n",
        "\r\n",
        "Mudeli treenimiseks kasutasime Kaggle'i andmestiku [Handwritten math symbols dataset](https://www.kaggle.com/xainano/handwrittenmathsymbols). See andmestik sisaldab nii matemaatilisi sümboleid kui ka numbreid ja mõningaid tähti. Pildid on suurusega 45x45.\r\n",
        "\r\n",
        "Kasutasime Kaggle'i [postituses](https://www.kaggle.com/xainano/handwrittenmathsymbols/discussion/85277) esitatud skripti et puhastada andmestik duplikaatidest (üle 80% algandmetest).\r\n",
        "\r\n",
        "Täpsem treenimine on nähtav Gitis: https://github.com/ilmaruduste/picture_calculator/blob/dev/math_symbol_classification_ml.ipynb"
      ]
    },
    {
      "cell_type": "code",
      "metadata": {
        "colab": {
          "base_uri": "https://localhost:8080/",
          "height": 48
        },
        "id": "o9ZrvCVVLZLz",
        "outputId": "f2ce911d-0341-43dc-e140-3613ba245dc9"
      },
      "source": [
        "#Peame mudeli sisendiks tegema piltidel jooned õhemaks, kuna treening pildid on väga peenikeste joontega\n",
        "kernel = np.ones((2,2),np.uint8)\n",
        "dilated_crops = np.array([cv2.dilate(crop, kernel, iterations=2) for crop in tiny_crops])\n",
        "draw_crops(dilated_crops, draw_axis=\"off\")\n",
        "\n",
        "predictions = loaded_model.predict(dilated_crops)\n",
        "predictions = [np.array(prediction).argmax() for prediction in predictions]"
      ],
      "execution_count": 34,
      "outputs": [
        {
          "output_type": "display_data",
          "data": {
            "image/png": "[encoded data removed]",
            "text/plain": [
              "<Figure size 432x288 with 16 Axes>"
            ]
          },
          "metadata": {
            "tags": [],
            "needs_background": "light"
          }
        }
      ]
    },
    {
      "cell_type": "code",
      "metadata": {
        "colab": {
          "base_uri": "https://localhost:8080/"
        },
        "id": "l7n5J7EEPAs0",
        "outputId": "a5c9e0df-0995-43c0-c6e3-66589e06cfc0"
      },
      "source": [
        "tehe_pildil = true_labels[predictions]\r\n",
        "tehe_pildil"
      ],
      "execution_count": 35,
      "outputs": [
        {
          "output_type": "execute_result",
          "data": {
            "text/plain": [
              "array(['+', '1', '2', 'sin', '3', '4', 'div', '5', '6', '1', 'A', '7',\n",
              "       '8', '1', '9', '6'], dtype=object)"
            ]
          },
          "metadata": {
            "tags": []
          },
          "execution_count": 35
        }
      ]
    },
    {
      "cell_type": "markdown",
      "metadata": {
        "id": "mQsR33r7V3LN"
      },
      "source": [
        "Nagu näha, siis mudel ei suuda väga häesti ennustada, mis on piltidel, vähemalt mitte piisavalt hästi, et seda saaks sisendina kasutada kalkulaatoris."
      ]
    },
    {
      "cell_type": "markdown",
      "metadata": {
        "id": "rPuV3volQ9DA"
      },
      "source": [
        "# Kalkulaatorid\r\n",
        "Projekti käigus valmis kaks kalkulaatori versiooni. Mõlemad kalkulaatorid võtavad sisendiks mudeli väljastatud listi pildilt leitud elementidest.\r\n",
        "\r\n",
        "Üks kalkulaator võimaldab lihtsate tehete korral +-*/ võrrandis oleva suure A väärtust arvutada.\r\n",
        "Teine kalkulaator võimaldab arvutada ilma muutujateta tehteid, tuvastab märke +-*/() sin tan cos pi."
      ]
    },
    {
      "cell_type": "markdown",
      "metadata": {
        "id": "ID15890ESN3v"
      },
      "source": [
        "## Võrrandi A suhtes lahendav kalkulaator\r\n",
        "\r\n",
        "Kalkulaator eeldab, et A esineb ainult ühes kohas võrrandis."
      ]
    },
    {
      "cell_type": "code",
      "metadata": {
        "id": "av6Q9CAMRfBH"
      },
      "source": [
        "def find_A(equation_list, eelmine_tehtepool = None, algne = None):\r\n",
        "    if algne == None:\r\n",
        "        algne = ''.join(equation_list)\r\n",
        "    #ühenda täisarvud stringidena\r\n",
        "    new_equation_list = []\r\n",
        "    for i, element in enumerate(equation_list):\r\n",
        "        try:\r\n",
        "            #kui liitmistehe õnnestub, siis on tegu numbritega.\r\n",
        "            number = int(new_equation_list[-1])+int(element)\r\n",
        "            #eelmisele elemendile lisan uue elemendi\r\n",
        "            new_equation_list[-1] = new_equation_list[-1]+str(element)\r\n",
        "        except:\r\n",
        "            #kui ei olnud number, või eelmine ei olnud number, siis lisan uue\r\n",
        "            new_equation_list.append(element)\r\n",
        "    equation_list = new_equation_list\r\n",
        "        \r\n",
        "    #panen kokku ühest tehtemärgist teise tehtemärgini, va =\r\n",
        "    #esimene märk ei pruugi olla tehtemärk\r\n",
        "    tehtemargid = [0]\r\n",
        "    for i in range(len(equation_list)):\r\n",
        "        if equation_list[i] in [\"+\",\"-\",\"/\",\"*\"]:\r\n",
        "            tehtemargid.append(i)\r\n",
        "        #võrdusmärgi peaks teistest eraldama\r\n",
        "        if equation_list[i] == \"=\":\r\n",
        "            tehtemargid.append(i)\r\n",
        "            tehtemargid.append(i+1)\r\n",
        "    #viimane sümbol ei saa olla tehtemärk, aga on vaja teada mis oleks viimane sümbol\r\n",
        "    tehtemargid.append(len(equation_list))\r\n",
        "            \r\n",
        "    tehted = []\r\n",
        "    for i in range(len(tehtemargid)-1):\r\n",
        "        tehted.append(''.join(equation_list[tehtemargid[i]:tehtemargid[i+1]]))\r\n",
        "    #eemaldan null kirjed, mis tekivad kui esimene sümbol ON tehtemärk\r\n",
        "    tehted = list(filter(None, tehted))\r\n",
        "    \r\n",
        "    #korrutamise ja jagamise tehted on keerulisemad\r\n",
        "    korjag = []\r\n",
        "    for i in range(len(tehted)):\r\n",
        "        if tehted[i][0] in [\"/\",\"*\"]:\r\n",
        "            korjag[-1] = korjag[-1]+str(tehted[i])\r\n",
        "        #peale \r\n",
        "        else:\r\n",
        "            korjag.append(tehted[i])\r\n",
        "    tehted = korjag\r\n",
        "            \r\n",
        "    #kus on A\r\n",
        "    A_loc = [i for i, tehe in enumerate(tehted) if 'A' in tehe] #eeldan alguses et A on ainult 1\r\n",
        "    A_element = tehted[A_loc[0]]\r\n",
        "    \r\n",
        "    #kus on =\r\n",
        "    eq_loc = tehted.index('=')\r\n",
        "    \r\n",
        "    #jaotan tehte A-ga pooleks ja tehtega pooleks\r\n",
        "    if A_loc[0] < eq_loc:\r\n",
        "        A_pool = tehted[:eq_loc]\r\n",
        "        tehte_pool = ''.join(tehted[eq_loc+1:])\r\n",
        "    else:\r\n",
        "        A_pool = tehted[eq_loc+1:]\r\n",
        "        tehte_pool = ''.join(tehted[:eq_loc])\r\n",
        "    \r\n",
        "    #tõstan A-i poolelt ära kõik elemendid, mis ei sisalda A-i\r\n",
        "    if len(A_pool) > 1:\r\n",
        "        for element in A_pool:\r\n",
        "            if element != A_element:\r\n",
        "                tehte_pool = '('+tehte_pool+')'+switch_sign(element)\r\n",
        "    \r\n",
        "    A_pool = A_element        \r\n",
        "    \r\n",
        "    if \"*\" in A_pool:\r\n",
        "        splititud = A_pool.split('*')\r\n",
        "        for element in splititud:\r\n",
        "            if \"A\" not in element:\r\n",
        "                tehte_pool = '('+tehte_pool+')'+\"/\"+element\r\n",
        "            if \"A\" in element:\r\n",
        "                A_pool = element\r\n",
        "    \r\n",
        "    if \"/\" in A_pool:\r\n",
        "        A_loc = A_pool.index(\"A\")\r\n",
        "        div_loc = A_pool.index('/')\r\n",
        "        if A_loc < div_loc:\r\n",
        "            splititud = A_pool.split('/')\r\n",
        "            tehte_pool = '('+tehte_pool+')'+\"*\"+splititud[1]\r\n",
        "            A_pool = splititud[0]\r\n",
        "        else:\r\n",
        "            splititud = A_pool.split('/')\r\n",
        "            tehte_pool = splititud[0]+\"/\"+'('+tehte_pool+')'\r\n",
        "            A_pool = splititud[1]\r\n",
        "        \r\n",
        "    if len(A_pool)>1: # peaks võimalik olema ainult siis, kui A-il on korrutusmärgita kordaja\r\n",
        "        splititud = A_pool.split(\"A\")\r\n",
        "        for element in splititud:\r\n",
        "            if element != '':\r\n",
        "                if len(element)==1 and element.isdigit()==False:\r\n",
        "                    element=element+\"1\"\r\n",
        "                tehte_pool = '('+tehte_pool+')'+\"/\"+element\r\n",
        "                A_pool = \"A\"\r\n",
        "                \r\n",
        "    if len(A_pool) == 1:\r\n",
        "        return algne+ \"   =>   A=\"+ str(eval(tehte_pool))\r\n",
        "    else:\r\n",
        "        vabandus = \"Antud tehe on kalkulaatorile liiga keeruline. Vabandust.\" \r\n",
        "        lopp_tehe = A_pool +\"=\"+tehte_pool\r\n",
        "        return vabandus + \"Jõudsin nii kaugele:\" + lopp_tehe\r\n",
        "\r\n",
        "def switch_sign(element):\r\n",
        "    symbol = element[0]\r\n",
        "    if symbol not in [\"+\",\"-\",\"/\",\"*\"]:\r\n",
        "        return '-'+element[0:]\r\n",
        "    elif symbol == \"+\":\r\n",
        "        return '-'+element[1:]\r\n",
        "    elif symbol == \"-\":\r\n",
        "        return '+'+element[1:]\r\n",
        "    elif symbol == \"*\":\r\n",
        "        return '/'+element[1:]\r\n",
        "    elif symbol == \"/\":\r\n",
        "        return '*'+element[1:]"
      ],
      "execution_count": 37,
      "outputs": []
    },
    {
      "cell_type": "code",
      "metadata": {
        "colab": {
          "base_uri": "https://localhost:8080/"
        },
        "id": "EFOZRFL1R4_S",
        "outputId": "db48e8ff-2666-465d-f73b-8dc31a6af148"
      },
      "source": [
        "model_output = [\"A\",\"-\",\"7\",\"=\",\"1\",\"2\",\"3\"]\r\n",
        "print(find_A(model_output))\r\n",
        "print(\"-----\")\r\n",
        "model_output = [\"3\",\"A\",\"+\",\"5\",\"=\",\"0\",\"+\",\"5\"]\r\n",
        "print(find_A(model_output))\r\n",
        "print(\"-----\")\r\n",
        "model_output = [\"6\",\"*\",\"A\",\"+\",\"5\",\"+\",\"5\",\"=\",\"7\",\"2\",\"/\",\"6\"]\r\n",
        "print(find_A(model_output))\r\n",
        "print(\"-----\")\r\n",
        "model_output = [\"-\",\"A\",\"/\",\"3\",\"=\",\"4\"]\r\n",
        "print(find_A(model_output))\r\n",
        "print(\"-----\")\r\n",
        "model_output = [\"5\",\"=\",\"-\",\"15\",\"/\",\"3\",\"A\"]\r\n",
        "print(find_A(model_output))\r\n",
        "print(\"-----\")\r\n",
        "model_output = [\"5\",\"+\",\"3\",\"A\", \"+\", \"9\",\"=\",\"0\"]\r\n",
        "print(find_A(model_output))\r\n",
        "print(\"-----\")\r\n",
        "model_output = list(\"6*A/7=1\")\r\n",
        "print(find_A(model_output))\r\n",
        "print(\"-----\")\r\n",
        "model_output = list(\"6*3/2=A+5\")\r\n",
        "print(find_A(model_output))"
      ],
      "execution_count": 38,
      "outputs": [
        {
          "output_type": "stream",
          "text": [
            "A-7=123   =>   A=130\n",
            "-----\n",
            "3A+5=0+5   =>   A=0.0\n",
            "-----\n",
            "6*A+5+5=72/6   =>   A=0.3333333333333333\n",
            "-----\n",
            "-A/3=4   =>   A=-12.0\n",
            "-----\n",
            "5=-15/3A   =>   A=-1.0\n",
            "-----\n",
            "5+3A+9=0   =>   A=-4.666666666666667\n",
            "-----\n",
            "6*A/7=1   =>   A=1.1666666666666665\n",
            "-----\n",
            "6*3/2=A+5   =>   A=4.0\n"
          ],
          "name": "stdout"
        }
      ]
    },
    {
      "cell_type": "markdown",
      "metadata": {
        "id": "NkbuyxcPSYdI"
      },
      "source": [
        "## Tehte kalkulaator"
      ]
    },
    {
      "cell_type": "code",
      "metadata": {
        "id": "7tBR2-AASGUm"
      },
      "source": [
        "def calculate(equation_list,debug=False):\r\n",
        "    #try:\r\n",
        "        algne = equation_list.copy()\r\n",
        "        \r\n",
        "        if debug:\r\n",
        "            print(''.join(equation_list))\r\n",
        "                    \r\n",
        "        #sin, cos, tan peaks leidma\r\n",
        "        # trig funktsioonile järgnevast avaldisest kuni järgmise pluss, miinus märgini\r\n",
        "        # v.a siis kui järgmine element on juba sulg\r\n",
        "        for i, element in enumerate(equation_list):\r\n",
        "            if element in [\"sin\",\"cos\",\"tan\"] and equation_list[i+1] != \"(\":\r\n",
        "                equation_list.insert(i+1,\"(\")\r\n",
        "                loppev_sulg_ix = find_next(equation_list, i, [\"+\",\"-\",\"sin\",\"cos\",\"tan\"])\r\n",
        "                if loppev_sulg_ix != i:\r\n",
        "                    equation_list.insert(loppev_sulg_ix,\")\")\r\n",
        "                else:\r\n",
        "                    equation_list.insert(len(equation_list),\")\")\r\n",
        "        \r\n",
        "        if debug:\r\n",
        "            print(''.join(equation_list)) \r\n",
        "            \r\n",
        "        #kui trig funktsioonide vahele oli pandud jagamis/kordusmärk, siis võis siin tekkida probleem \"*)\" või \"/)\"\r\n",
        "        for i, element in enumerate(equation_list):\r\n",
        "            if element == \")\" and equation_list[i-1] in [\"*\",\"/\"]:\r\n",
        "                equation_list[i]=equation_list[i-1]\r\n",
        "                equation_list[i-1]=\")\"\r\n",
        "            \r\n",
        "        #teatud tehted on ainult math moodulist\r\n",
        "        for i, element in enumerate(equation_list):\r\n",
        "            if element in [\"sin\",\"cos\",\"tan\", \"pi\"]:\r\n",
        "                equation_list[i]=\"math.\"+equation_list[i]\r\n",
        "        \r\n",
        "        if debug:\r\n",
        "            print(equation_list)            \r\n",
        "            \r\n",
        "        #math mooduli tehted võivad olla võrrandis järjest ilma korrutusmärgita, seda python ei oska lugeda\r\n",
        "        # selleks hetkeks funktsioonis on kõigi math moodulite avaldised sulgudes\r\n",
        "        \r\n",
        "        for i, element in enumerate(equation_list):\r\n",
        "            if \"math\" in element and i != 0 and equation_list[i-1] in [\")\",\"math.pi\",\"0\",\"1\",\"2\",\"3\",\"4\",\"5\",\"6\",\"7\",\"8\",\"9\"]:\r\n",
        "                equation_list.insert(i,\"*\")\r\n",
        "            if element == \"math.pi\" and i != len(equation_list)-1 and equation_list[i+1] in [\"(\",\"math.pi\",\"0\",\"1\",\"2\",\"3\",\"4\",\"5\",\"6\",\"7\",\"8\",\"9\"]:\r\n",
        "                equation_list.insert(i+1,\"*\")\r\n",
        "                \r\n",
        "        if debug:\r\n",
        "            print(equation_list)            \r\n",
        "        \r\n",
        "        return ''.join(''.join(algne)+\"=>\"+''.join(equation_list)+\"=\"+ str(eval(''.join(equation_list))))\r\n",
        "    #except:\r\n",
        "     #   return \"Antud tehe ei ole matemaatiliselt korrektne.\"\r\n",
        "\r\n",
        "#tagastab järgmise lookup_symbol listi kuuluva elemendi indeksi\r\n",
        "def find_next(equation_list, current_index, lookup_symbols):\r\n",
        "    locations = [i for i, symbol in enumerate(equation_list) if symbol in lookup_symbols]\r\n",
        "    next_index = current_index\r\n",
        "    for index in locations:\r\n",
        "        if index > next_index:\r\n",
        "            return index\r\n",
        "    return next_index\r\n",
        "\r\n",
        "#tagastab eelmise lookup_symbol listi kuuluva elemendi indeksi\r\n",
        "def find_prev(equation_list, current_index, lookup_symbols):\r\n",
        "    locations = [i for i, symbol in enumerate(equation_list) if symbol in lookup_symbols]\r\n",
        "    prev_index = current_index\r\n",
        "    for index in locations:\r\n",
        "        if index < prev_index:\r\n",
        "            return index\r\n",
        "    return prev_index"
      ],
      "execution_count": 40,
      "outputs": []
    },
    {
      "cell_type": "code",
      "metadata": {
        "colab": {
          "base_uri": "https://localhost:8080/"
        },
        "id": "jxcMqPOjShbM",
        "outputId": "6f854f31-ff17-4a23-cffb-c22e00d0c03e"
      },
      "source": [
        "print(calculate([\"cos\",\"1\",\"0\",\"*\",\"sin\",\"1\",\"0\"]))\r\n",
        "print(calculate([\"tan\",\"1\",\"0\",\"sin\",\"1\",\"0\"]))\r\n",
        "print(calculate([\"cos\",\"10\",\"+\",\"3\",\"sin\",\"10\"]))\r\n",
        "print(calculate([\"sin\",\"1\",\"+\",\"2\"]))\r\n",
        "print(calculate([\"sin\",\"1\"]))\r\n",
        "print(calculate([\"pi\",\"3\"]))\r\n",
        "print(calculate([\"1\",\"2\",\"3\",\"+\",\"7\"]))\r\n",
        "print(calculate([\"0\",\"+\",\"5\",\"/\",\"3\"]))\r\n",
        "print(calculate([\"7\",\"2\",\"/\",\"6\",\"-\",\"10\",\"/\",\"6\"]))\r\n",
        "print(calculate([\"-\",\"4\",\"/\",\"3\"]))\r\n",
        "print(calculate([\"15\",\"/\",\"3\",\"-\",\"5\"]))\r\n",
        "print(calculate([\"5\",\"+\",\"3\", \"+\", \"9\"]))\r\n",
        "print(calculate(list(\"6*1/7\")))\r\n",
        "print(calculate(list(\"6*3/2+5\")))"
      ],
      "execution_count": 41,
      "outputs": [
        {
          "output_type": "stream",
          "text": [
            "cos10*sin10=>math.cos(10)*math.sin(10)=0.4564726253638138\n",
            "tan10sin10=>math.tan(10)*math.sin(10)=-0.3527219776114433\n",
            "cos10+3sin10=>math.cos(10)+3*math.sin(10)=-2.4711348617445617\n",
            "sin1+2=>math.sin(1)+2=2.8414709848078967\n",
            "sin1=>math.sin(1)=0.8414709848078965\n",
            "pi3=>math.pi*3=9.42477796076938\n",
            "123+7=>123+7=130\n",
            "0+5/3=>0+5/3=1.6666666666666667\n",
            "72/6-10/6=>72/6-10/6=10.333333333333334\n",
            "-4/3=>-4/3=-1.3333333333333333\n",
            "15/3-5=>15/3-5=0.0\n",
            "5+3+9=>5+3+9=17\n",
            "6*1/7=>6*1/7=0.8571428571428571\n",
            "6*3/2+5=>6*3/2+5=14.0\n"
          ],
          "name": "stdout"
        }
      ]
    },
    {
      "cell_type": "markdown",
      "metadata": {
        "id": "st3QITF2TBTt"
      },
      "source": [
        "# Kokkuvõte\r\n",
        "\r\n",
        "Pildikalkulaatori tegemisel kõige keerulisemaks osaks sai mudeli treenimine/rakendamine.\r\n",
        "\r\n",
        "Tekkinud probleemid:\r\n",
        "* Mudeli treenimiseks kasutatud pildid erinevad palju enda tehtavatest piltidest.\r\n",
        "* Erinevad kirjutusriistad teevad erineva jämedusega jooni.\r\n",
        "* Andmestikus oli palju duplikaate.\r\n",
        "\r\n",
        "Pilditöötluse osaga võib täitsa rahule jääda, kuna suutsime üpris hästi tuvastada kus asuvad numbrid ja märgid pildil. Kalkulaatorite jaoks algoritmide välja mõtlemine oli keerukas ja tundus nagu jalgratta leiutamine. Samas valminud kalkulaatorid, vähemalt meie testimise põhjal, töötavad nii nagu oodatud.\r\n",
        "\r\n",
        "Rohkem koodi tehtud projekti kohta meie GitHubis https://github.com/ilmaruduste/picture_calculator."
      ]
    }
  ]
}