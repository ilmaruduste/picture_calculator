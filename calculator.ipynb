{
 "cells": [
  {
   "cell_type": "code",
   "execution_count": 6,
   "metadata": {},
   "outputs": [],
   "source": [
    "import matplotlib.pyplot as plt\n",
    "import numpy as np\n",
    "import math"
   ]
  },
  {
   "cell_type": "code",
   "execution_count": 279,
   "metadata": {},
   "outputs": [],
   "source": [
    "def calculate(equation_list,debug=False):\n",
    "    #try:\n",
    "        algne = equation_list.copy()\n",
    "        \n",
    "        if debug:\n",
    "            print(''.join(equation_list))\n",
    "                    \n",
    "        #sin, cos, tan peaks leidma\n",
    "        # trig funktsioonile järgnevast avaldisest kuni järgmise pluss, miinus märgini\n",
    "        # v.a siis kui järgmine element on juba sulg\n",
    "        for i, element in enumerate(equation_list):\n",
    "            if element in [\"sin\",\"cos\",\"tan\"] and equation_list[i+1] != \"(\":\n",
    "                equation_list.insert(i+1,\"(\")\n",
    "                loppev_sulg_ix = find_next(equation_list, i, [\"+\",\"-\",\"sin\",\"cos\",\"tan\"])\n",
    "                if loppev_sulg_ix != i:\n",
    "                    equation_list.insert(loppev_sulg_ix,\")\")\n",
    "                else:\n",
    "                    equation_list.insert(len(equation_list),\")\")\n",
    "        \n",
    "        if debug:\n",
    "            print(''.join(equation_list)) \n",
    "            \n",
    "        #kui trig funktsioonide vahele oli pandud jagamis/kordusmärk, siis võis siin tekkida probleem \"*)\" või \"/)\"\n",
    "        for i, element in enumerate(equation_list):\n",
    "            if element == \")\" and equation_list[i-1] in [\"*\",\"/\"]:\n",
    "                equation_list[i]=equation_list[i-1]\n",
    "                equation_list[i-1]=\")\"\n",
    "            \n",
    "        #teatud tehted on ainult math moodulist\n",
    "        for i, element in enumerate(equation_list):\n",
    "            if element in [\"sin\",\"cos\",\"tan\", \"pi\"]:\n",
    "                equation_list[i]=\"math.\"+equation_list[i]\n",
    "        \n",
    "        if debug:\n",
    "            print(equation_list)            \n",
    "            \n",
    "        #math mooduli tehted võivad olla võrrandis järjest ilma korrutusmärgita, seda python ei oska lugeda\n",
    "        # selleks hetkeks funktsioonis on kõigi math moodulite avaldised sulgudes\n",
    "        \n",
    "        for i, element in enumerate(equation_list):\n",
    "            if \"math\" in element and i != 0 and equation_list[i-1] in [\")\",\"math.pi\",\"0\",\"1\",\"2\",\"3\",\"4\",\"5\",\"6\",\"7\",\"8\",\"9\"]:\n",
    "                equation_list.insert(i,\"*\")\n",
    "            if element == \"math.pi\" and i != len(equation_list)-1 and equation_list[i+1] in [\"(\",\"math.pi\",\"0\",\"1\",\"2\",\"3\",\"4\",\"5\",\"6\",\"7\",\"8\",\"9\"]:\n",
    "                equation_list.insert(i+1,\"*\")\n",
    "                \n",
    "        if debug:\n",
    "            print(equation_list)            \n",
    "        \n",
    "        return ''.join(''.join(algne)+\"=\"+''.join(equation_list)+\"=\"+ str(eval(''.join(equation_list))))\n",
    "    #except:\n",
    "     #   return \"Antud tehe ei ole matemaatiliselt korrektne.\""
   ]
  },
  {
   "cell_type": "code",
   "execution_count": 236,
   "metadata": {},
   "outputs": [],
   "source": [
    "#tagastab järgmise lookup_symbol listi kuuluva elemendi indeksi\n",
    "def find_next(equation_list, current_index, lookup_symbols):\n",
    "    locations = [i for i, symbol in enumerate(equation_list) if symbol in lookup_symbols]\n",
    "    next_index = current_index\n",
    "    for index in locations:\n",
    "        if index > next_index:\n",
    "            return index\n",
    "    return next_index\n",
    "\n",
    "#tagastab eelmise lookup_symbol listi kuuluva elemendi indeksi\n",
    "def find_prev(equation_list, current_index, lookup_symbols):\n",
    "    locations = [i for i, symbol in enumerate(equation_list) if symbol in lookup_symbols]\n",
    "    prev_index = current_index\n",
    "    for index in locations:\n",
    "        if index < prev_index:\n",
    "            return index\n",
    "    return prev_index"
   ]
  },
  {
   "cell_type": "code",
   "execution_count": 280,
   "metadata": {
    "scrolled": true
   },
   "outputs": [
    {
     "name": "stdout",
     "output_type": "stream",
     "text": [
      "cos10*sin10\n",
      "cos(10*)sin(10)\n",
      "['math.cos', '(', '1', '0', ')', '*', 'math.sin', '(', '1', '0', ')']\n",
      "['math.cos', '(', '1', '0', ')', '*', 'math.sin', '(', '1', '0', ')']\n"
     ]
    },
    {
     "data": {
      "text/plain": [
       "'cos10*sin10=math.cos(10)*math.sin(10)=0.4564726253638138'"
      ]
     },
     "execution_count": 280,
     "metadata": {},
     "output_type": "execute_result"
    }
   ],
   "source": [
    "calculate([\"cos\",\"1\",\"0\",\"*\",\"sin\",\"1\",\"0\"],True)"
   ]
  },
  {
   "cell_type": "code",
   "execution_count": 281,
   "metadata": {
    "scrolled": true
   },
   "outputs": [
    {
     "name": "stdout",
     "output_type": "stream",
     "text": [
      "tan10sin10\n",
      "tan(10)sin(10)\n",
      "['math.tan', '(', '1', '0', ')', 'math.sin', '(', '1', '0', ')']\n",
      "['math.tan', '(', '1', '0', ')', '*', 'math.sin', '(', '1', '0', ')']\n"
     ]
    },
    {
     "data": {
      "text/plain": [
       "'tan10sin10=math.tan(10)*math.sin(10)=-0.3527219776114433'"
      ]
     },
     "execution_count": 281,
     "metadata": {},
     "output_type": "execute_result"
    }
   ],
   "source": [
    "calculate([\"tan\",\"1\",\"0\",\"sin\",\"1\",\"0\"],True)"
   ]
  },
  {
   "cell_type": "code",
   "execution_count": 283,
   "metadata": {},
   "outputs": [
    {
     "name": "stdout",
     "output_type": "stream",
     "text": [
      "cos10+3sin10\n",
      "cos(10)+3sin(10)\n",
      "['math.cos', '(', '10', ')', '+', '3', 'math.sin', '(', '10', ')']\n",
      "['math.cos', '(', '10', ')', '+', '3', '*', 'math.sin', '(', '10', ')']\n"
     ]
    },
    {
     "data": {
      "text/plain": [
       "'cos10+3sin10=math.cos(10)+3*math.sin(10)=-2.4711348617445617'"
      ]
     },
     "execution_count": 283,
     "metadata": {},
     "output_type": "execute_result"
    }
   ],
   "source": [
    "calculate([\"cos\",\"10\",\"+\",\"3\",\"sin\",\"10\"],True)"
   ]
  },
  {
   "cell_type": "code",
   "execution_count": 284,
   "metadata": {},
   "outputs": [
    {
     "data": {
      "text/plain": [
       "'sin1+2=math.sin(1)+2=2.8414709848078967'"
      ]
     },
     "execution_count": 284,
     "metadata": {},
     "output_type": "execute_result"
    }
   ],
   "source": [
    "calculate([\"sin\",\"1\",\"+\",\"2\"])"
   ]
  },
  {
   "cell_type": "code",
   "execution_count": 285,
   "metadata": {
    "scrolled": true
   },
   "outputs": [
    {
     "data": {
      "text/plain": [
       "'sin1=math.sin(1)=0.8414709848078965'"
      ]
     },
     "execution_count": 285,
     "metadata": {},
     "output_type": "execute_result"
    }
   ],
   "source": [
    "calculate([\"sin\",\"1\"])"
   ]
  },
  {
   "cell_type": "code",
   "execution_count": 286,
   "metadata": {},
   "outputs": [
    {
     "name": "stdout",
     "output_type": "stream",
     "text": [
      "pi3\n",
      "pi3\n",
      "['math.pi', '3']\n",
      "['math.pi', '*', '3']\n"
     ]
    },
    {
     "data": {
      "text/plain": [
       "'pi3=math.pi*3=9.42477796076938'"
      ]
     },
     "execution_count": 286,
     "metadata": {},
     "output_type": "execute_result"
    }
   ],
   "source": [
    "calculate([\"pi\",\"3\"],True)"
   ]
  },
  {
   "cell_type": "code",
   "execution_count": 287,
   "metadata": {
    "scrolled": true
   },
   "outputs": [
    {
     "name": "stdout",
     "output_type": "stream",
     "text": [
      "123+7=123+7=130\n",
      "0+5/3=0+5/3=1.6666666666666667\n",
      "72/6-10/6=72/6-10/6=10.333333333333334\n",
      "-4/3=-4/3=-1.3333333333333333\n",
      "15/3-5=15/3-5=0.0\n",
      "5+3+9=5+3+9=17\n",
      "6*1/7=6*1/7=0.8571428571428571\n",
      "6*3/2+5=6*3/2+5=14.0\n"
     ]
    }
   ],
   "source": [
    "print(calculate([\"1\",\"2\",\"3\",\"+\",\"7\"]))\n",
    "print(calculate([\"0\",\"+\",\"5\",\"/\",\"3\"]))\n",
    "print(calculate([\"7\",\"2\",\"/\",\"6\",\"-\",\"10\",\"/\",\"6\"]))\n",
    "print(calculate([\"-\",\"4\",\"/\",\"3\"]))\n",
    "print(calculate([\"15\",\"/\",\"3\",\"-\",\"5\"]))\n",
    "print(calculate([\"5\",\"+\",\"3\", \"+\", \"9\"]))\n",
    "print(calculate(list(\"6*1/7\")))\n",
    "print(calculate(list(\"6*3/2+5\")))"
   ]
  }
 ],
 "metadata": {
  "kernelspec": {
   "display_name": "Python 3",
   "language": "python",
   "name": "python3"
  },
  "language_info": {
   "codemirror_mode": {
    "name": "ipython",
    "version": 3
   },
   "file_extension": ".py",
   "mimetype": "text/x-python",
   "name": "python",
   "nbconvert_exporter": "python",
   "pygments_lexer": "ipython3",
   "version": "3.6.8"
  }
 },
 "nbformat": 4,
 "nbformat_minor": 1
}